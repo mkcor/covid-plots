{
 "cells": [
  {
   "cell_type": "markdown",
   "metadata": {},
   "source": [
    "# Coronavirus numbers (daily)"
   ]
  },
  {
   "cell_type": "markdown",
   "metadata": {},
   "source": [
    "Are France’s numbers following Italy’s?\n",
    "\n",
    "* If so, which numbers? Explore this by using the 'variable' dropdown menu.\n",
    "* If so, how many days behind Italy would France be? Explore this by using the 'lag' slider."
   ]
  },
  {
   "cell_type": "code",
   "execution_count": null,
   "metadata": {},
   "outputs": [],
   "source": [
    "import pandas as pd\n",
    "import plotly.express as px\n",
    "from ipywidgets import interactive"
   ]
  },
  {
   "cell_type": "code",
   "execution_count": null,
   "metadata": {},
   "outputs": [],
   "source": [
    "df = pd.read_csv('https://covid.ourworldindata.org/data/ecdc/full_data.csv', index_col='date', parse_dates=True)\n",
    "data = df[df.location.isin(['France', 'Italy'])]"
   ]
  },
  {
   "cell_type": "code",
   "execution_count": null,
   "metadata": {},
   "outputs": [],
   "source": [
    "def plot_compare_lag(variable, lag):\n",
    "    wide_data = data.pivot(columns='location', values=variable)\n",
    "    wide_data['France lag'] = wide_data['France'].shift(-lag)\n",
    "    wide_data = wide_data[['Italy', 'France lag']]\n",
    "    wide_data.reset_index(level=0, inplace=True)\n",
    "    fig = px.line(wide_data.melt(id_vars='date'), x='date', y='value', color='location')\n",
    "    fig.update_yaxes(title='')\n",
    "    fig.show()\n",
    "\n",
    "interactive(plot_compare_lag, variable=list(data.columns[1:]), lag=(0, 14))"
   ]
  },
  {
   "cell_type": "markdown",
   "metadata": {},
   "source": [
    "Source: ECDC data _via_ https://ourworldindata.org/coronavirus-source-data"
   ]
  }
 ],
 "metadata": {
  "kernelspec": {
   "display_name": "Python 3",
   "language": "python",
   "name": "python3"
  },
  "language_info": {
   "codemirror_mode": {
    "name": "ipython",
    "version": 3
   },
   "file_extension": ".py",
   "mimetype": "text/x-python",
   "name": "python",
   "nbconvert_exporter": "python",
   "pygments_lexer": "ipython3",
   "version": "3.8.2"
  }
 },
 "nbformat": 4,
 "nbformat_minor": 4
}
